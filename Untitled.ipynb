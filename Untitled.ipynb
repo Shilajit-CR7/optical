{
 "cells": [
  {
   "cell_type": "code",
   "execution_count": 1,
   "id": "250d1c12",
   "metadata": {
    "ExecuteTime": {
     "end_time": "2023-09-28T05:08:24.625809Z",
     "start_time": "2023-09-28T05:08:24.038891Z"
    }
   },
   "outputs": [],
   "source": [
    "import cv2"
   ]
  },
  {
   "cell_type": "code",
   "execution_count": null,
   "id": "4efd8f60",
   "metadata": {},
   "outputs": [],
   "source": [
    "cap = cv2.VideoCapture('')"
   ]
  },
  {
   "cell_type": "code",
   "execution_count": 4,
   "id": "b44542d5",
   "metadata": {
    "ExecuteTime": {
     "end_time": "2023-09-28T05:12:26.916670Z",
     "start_time": "2023-09-28T05:12:26.884485Z"
    }
   },
   "outputs": [
    {
     "ename": "ImportError",
     "evalue": "cannot import name 'objectdetection' from 'object_detection' (C:\\Users\\shila\\AppData\\Local\\Programs\\Python\\Python310\\lib\\site-packages\\object_detection\\__init__.py)",
     "output_type": "error",
     "traceback": [
      "\u001b[1;31m---------------------------------------------------------------------------\u001b[0m",
      "\u001b[1;31mImportError\u001b[0m                               Traceback (most recent call last)",
      "Cell \u001b[1;32mIn [4], line 1\u001b[0m\n\u001b[1;32m----> 1\u001b[0m \u001b[38;5;28;01mfrom\u001b[39;00m \u001b[38;5;21;01mobject_detection\u001b[39;00m \u001b[38;5;28;01mimport\u001b[39;00m objectdetection\n",
      "\u001b[1;31mImportError\u001b[0m: cannot import name 'objectdetection' from 'object_detection' (C:\\Users\\shila\\AppData\\Local\\Programs\\Python\\Python310\\lib\\site-packages\\object_detection\\__init__.py)"
     ]
    }
   ],
   "source": [
    "from object_detection import objectdetection"
   ]
  },
  {
   "cell_type": "code",
   "execution_count": null,
   "id": "c6ddc3ef",
   "metadata": {},
   "outputs": [],
   "source": []
  }
 ],
 "metadata": {
  "kernelspec": {
   "display_name": "Python 3 (ipykernel)",
   "language": "python",
   "name": "python3"
  },
  "language_info": {
   "codemirror_mode": {
    "name": "ipython",
    "version": 3
   },
   "file_extension": ".py",
   "mimetype": "text/x-python",
   "name": "python",
   "nbconvert_exporter": "python",
   "pygments_lexer": "ipython3",
   "version": "3.10.7"
  }
 },
 "nbformat": 4,
 "nbformat_minor": 5
}
